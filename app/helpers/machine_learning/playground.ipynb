{
 "cells": [
  {
   "cell_type": "code",
   "execution_count": 2,
   "metadata": {},
   "outputs": [],
   "source": [
    "\"\"\"\n",
    "Contains unsupervised learning functions to enable image_segmentation.\n",
    "\"\"\"\n",
    "\n",
    "# Author: Viraj Vaitha\n",
    "\n",
    "# Import Libaries\n",
    "import sklearn\n",
    "from sklearn.cluster import KMeans\n",
    "import numpy as np\n",
    "import os\n",
    "\n",
    "def cluster_image(n_clusters:int ,input_array: np.array) -> np.array:\n",
    "    X = input_array.reshape(-1, 3)\n",
    "\n",
    "    # training kmeans model\n",
    "    kmeans = KMeans(n_clusters= n_clusters, random_state=42).fit(X)\n",
    "    \n",
    "    # Replace pixel rgb values with the rgb value of it's closest centroid\n",
    "    segmented_img = kmeans.cluster_centers_[kmeans.labels_]\n",
    "    segmented_img = segmented_img.reshape(input_array.shape)\n",
    "    return segmented_img\n"
   ]
  },
  {
   "cell_type": "code",
   "execution_count": 5,
   "metadata": {},
   "outputs": [
    {
     "data": {
      "text/plain": [
       "(2021, 3032, 3)"
      ]
     },
     "execution_count": 5,
     "metadata": {},
     "output_type": "execute_result"
    }
   ],
   "source": [
    "from matplotlib.image import imread\n",
    "im = imread(os.path.join(r\"C:\\Users\\viraj.vaitha\\repos\\portfolio\\figures\",\"segmented_image_3.jpg\"))\n",
    "im.shape"
   ]
  },
  {
   "cell_type": "code",
   "execution_count": 6,
   "metadata": {},
   "outputs": [],
   "source": [
    "X = im.reshape(-1,3)"
   ]
  },
  {
   "cell_type": "code",
   "execution_count": 7,
   "metadata": {},
   "outputs": [
    {
     "data": {
      "text/plain": [
       "array([[1, 6, 0],\n",
       "       [1, 6, 0],\n",
       "       [1, 6, 0],\n",
       "       ...,\n",
       "       [1, 6, 0],\n",
       "       [1, 6, 0],\n",
       "       [1, 6, 0]], dtype=uint8)"
      ]
     },
     "execution_count": 7,
     "metadata": {},
     "output_type": "execute_result"
    }
   ],
   "source": [
    "X"
   ]
  },
  {
   "cell_type": "code",
   "execution_count": null,
   "metadata": {},
   "outputs": [],
   "source": []
  }
 ],
 "metadata": {
  "interpreter": {
   "hash": "c80348078d4bfcdf316bb3a6702713875d18c721d9817e2bb1533a80c71ce84f"
  },
  "kernelspec": {
   "display_name": "Python 3.10.1 64-bit ('fastapi': venv)",
   "language": "python",
   "name": "python3"
  },
  "language_info": {
   "codemirror_mode": {
    "name": "ipython",
    "version": 3
   },
   "file_extension": ".py",
   "mimetype": "text/x-python",
   "name": "python",
   "nbconvert_exporter": "python",
   "pygments_lexer": "ipython3",
   "version": "3.10.1"
  },
  "orig_nbformat": 4
 },
 "nbformat": 4,
 "nbformat_minor": 2
}
